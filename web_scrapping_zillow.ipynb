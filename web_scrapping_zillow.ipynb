{
 "cells": [
  {
   "cell_type": "code",
   "execution_count": 248,
   "metadata": {},
   "outputs": [],
   "source": [
    "from urllib.request import urlopen, Request\n",
    "from bs4 import BeautifulSoup\n",
    "import re\n",
    "import pandas as pd"
   ]
  },
  {
   "cell_type": "code",
   "execution_count": 57,
   "metadata": {},
   "outputs": [],
   "source": [
    "quote_page = 'https://www.zillow.com/homes/for_sale/Boston-MA-02126/59138273_zpid/58640_rid/42.300388,-71.060172,42.251615,-71.119309_rect/13_zm/'"
   ]
  },
  {
   "cell_type": "code",
   "execution_count": 58,
   "metadata": {},
   "outputs": [],
   "source": [
    "req = urllib.request.Request(\n",
    "    quote_page, \n",
    "    data=None, \n",
    "    headers={\n",
    "        'User-Agent': 'Mozilla/5.0 (Macintosh; Intel Mac OS X 10_9_3) AppleWebKit/537.36 (KHTML, like Gecko) Chrome/35.0.1916.47 Safari/537.36'\n",
    "    })"
   ]
  },
  {
   "cell_type": "code",
   "execution_count": 59,
   "metadata": {},
   "outputs": [],
   "source": [
    "page = urlopen(req)"
   ]
  },
  {
   "cell_type": "code",
   "execution_count": 60,
   "metadata": {},
   "outputs": [],
   "source": [
    "page_response = requests.get(quote_page, timeout=5)"
   ]
  },
  {
   "cell_type": "code",
   "execution_count": 61,
   "metadata": {},
   "outputs": [],
   "source": [
    "soup = BeautifulSoup(page, 'html.parser')"
   ]
  },
  {
   "cell_type": "code",
   "execution_count": 109,
   "metadata": {},
   "outputs": [
    {
     "data": {
      "text/plain": [
       "'<header class=\"zsg-content-header addr\">\\n <h1 class=\"notranslate\">\\n  19 Ellison Ave,\\n  <span class=\"zsg-h2 addr_city\">\\n   Boston, MA 02126\\n  </span>\\n </h1>\\n <h3 class=\"\">\\n  <span aria-hidden=\"true\" class=\"middle-dot\">\\n  </span>\\n  <span class=\"addr_bbs\">\\n   5 beds\\n  </span>\\n  <span aria-hidden=\"true\" class=\"middle-dot\">\\n  </span>\\n  <span class=\"addr_bbs\">\\n   3 baths\\n  </span>\\n  <span aria-hidden=\"true\" class=\"middle-dot\">\\n  </span>\\n  <span class=\"addr_bbs\">\\n   1,772 sqft\\n  </span>\\n </h3>\\n</header>'"
      ]
     },
     "execution_count": 109,
     "metadata": {},
     "output_type": "execute_result"
    }
   ],
   "source": [
    "name.prettify()"
   ]
  },
  {
   "cell_type": "code",
   "execution_count": 134,
   "metadata": {},
   "outputs": [
    {
     "data": {
      "text/plain": [
       "'19 Ellison Ave, Boston, MA 02126 '"
      ]
     },
     "execution_count": 134,
     "metadata": {},
     "output_type": "execute_result"
    }
   ],
   "source": [
    "name.find(class_='notranslate').get_text()"
   ]
  },
  {
   "cell_type": "code",
   "execution_count": 152,
   "metadata": {},
   "outputs": [],
   "source": [
    "def get_location(soup):\n",
    "    # Retrieve location information\n",
    "    name = soup.find(class_='zsg-content-header')\n",
    "    address = name.find(class_='notranslate').get_text()\n",
    "    address, city, state_zipcode = address.split(',')\n",
    "\n",
    "    # Strip whitespace on the right and left side\n",
    "    city = city.lstrip().rstrip()\n",
    "    state, zipcode = state_zipcode.lstrip().rstrip().split(' ')\n",
    "    \n",
    "    return address, city, state, zipcode"
   ]
  },
  {
   "cell_type": "code",
   "execution_count": 294,
   "metadata": {},
   "outputs": [],
   "source": [
    "name = soup.find(class_='zsg-content-section')\n",
    "facts = name.find_all(class_='hdp-fact-ataglance-value')\n",
    "\n",
    "header = ['house_type', 'year_built', 'heating', 'cooling', 'parking', 'lot_size', 'days_on_zillow', 'price_per_sqft', 'saves',\n",
    "         'bedroom', 'full_bath', 'half_bath', 'floor_size']\n",
    "all_facts = [x.get_text() for x in facts]\n",
    "all_facts[5] = int(re.findall('\\d+', all_facts[5].replace(',',''))[0])\n",
    "all_facts[7] = int(re.findall('\\d+', all_facts[7].replace(',',''))[0])\n",
    "name = soup.find(class_='hdp-fact-container-columns')\n",
    "facts = name.find_all(class_='hdp-fact-value')\n",
    "bed, bath, size = [x.get_text() for x in facts]\n",
    "bed = int(bed)\n",
    "full_bath, half_bath = list(map(int, re.findall('\\d', bath)))\n",
    "size = int(re.findall('\\d+', size.replace(',',''))[0])\n",
    "\n",
    "all_facts.extend([bed, full_bath, half_bath, size])\n",
    "all_facts = pd.DataFrame(all_facts, index=header).T"
   ]
  },
  {
   "cell_type": "code",
   "execution_count": 295,
   "metadata": {},
   "outputs": [
    {
     "data": {
      "text/html": [
       "<div>\n",
       "<style scoped>\n",
       "    .dataframe tbody tr th:only-of-type {\n",
       "        vertical-align: middle;\n",
       "    }\n",
       "\n",
       "    .dataframe tbody tr th {\n",
       "        vertical-align: top;\n",
       "    }\n",
       "\n",
       "    .dataframe thead th {\n",
       "        text-align: right;\n",
       "    }\n",
       "</style>\n",
       "<table border=\"1\" class=\"dataframe\">\n",
       "  <thead>\n",
       "    <tr style=\"text-align: right;\">\n",
       "      <th></th>\n",
       "      <th>house_type</th>\n",
       "      <th>year_built</th>\n",
       "      <th>heating</th>\n",
       "      <th>cooling</th>\n",
       "      <th>parking</th>\n",
       "      <th>lot_size</th>\n",
       "      <th>days_on_zillow</th>\n",
       "      <th>price_per_sqft</th>\n",
       "      <th>saves</th>\n",
       "      <th>bedroom</th>\n",
       "      <th>full_bath</th>\n",
       "      <th>half_bath</th>\n",
       "      <th>floor_size</th>\n",
       "    </tr>\n",
       "  </thead>\n",
       "  <tbody>\n",
       "    <tr>\n",
       "      <th>0</th>\n",
       "      <td>Single Family</td>\n",
       "      <td>1925</td>\n",
       "      <td>No Data</td>\n",
       "      <td>No Data</td>\n",
       "      <td>No Data</td>\n",
       "      <td>5227</td>\n",
       "      <td>Less than 1 day</td>\n",
       "      <td>395</td>\n",
       "      <td>No Data</td>\n",
       "      <td>5</td>\n",
       "      <td>2</td>\n",
       "      <td>1</td>\n",
       "      <td>1772</td>\n",
       "    </tr>\n",
       "  </tbody>\n",
       "</table>\n",
       "</div>"
      ],
      "text/plain": [
       "      house_type year_built  heating  cooling  parking lot_size  \\\n",
       "0  Single Family       1925  No Data  No Data  No Data     5227   \n",
       "\n",
       "    days_on_zillow price_per_sqft    saves bedroom full_bath half_bath  \\\n",
       "0  Less than 1 day            395  No Data       5         2         1   \n",
       "\n",
       "  floor_size  \n",
       "0       1772  "
      ]
     },
     "execution_count": 295,
     "metadata": {},
     "output_type": "execute_result"
    }
   ],
   "source": [
    "all_facts"
   ]
  }
 ],
 "metadata": {
  "kernelspec": {
   "display_name": "Python 3",
   "language": "python",
   "name": "python3"
  },
  "language_info": {
   "codemirror_mode": {
    "name": "ipython",
    "version": 3
   },
   "file_extension": ".py",
   "mimetype": "text/x-python",
   "name": "python",
   "nbconvert_exporter": "python",
   "pygments_lexer": "ipython3",
   "version": "3.6.4"
  }
 },
 "nbformat": 4,
 "nbformat_minor": 2
}
